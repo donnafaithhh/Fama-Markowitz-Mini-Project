{
 "cells": [
  {
   "cell_type": "markdown",
   "id": "4b0981c2-8d12-4743-86fa-c0f1a7cc0ef9",
   "metadata": {},
   "source": [
    "## Imports"
   ]
  },
  {
   "cell_type": "code",
   "execution_count": 1,
   "id": "a2d7cd05-816f-4af8-a5d4-abaffb16c917",
   "metadata": {},
   "outputs": [],
   "source": [
    "# standard imports\n",
    "import pandas as pd\n",
    "import numpy as np\n",
    "import matplotlib.pyplot as plt\n",
    "from datetime import datetime, timedelta\n",
    "import time\n",
    "import pickle\n",
    "\n",
    "# webscraping\n",
    "import requests\n",
    "from bs4 import BeautifulSoup\n",
    "\n",
    "# stocks\n",
    "import yfinance as yf\n",
    "import cvxopt as opt\n",
    "from cvxopt import blas, solvers\n",
    "import cufflinks\n",
    "import mplfinance as mpf\n",
    "\n",
    "# import plotly.plotly as py\n",
    "import plotly.tools as tls\n",
    "from plotly.graph_objs import *\n",
    "solvers.options['show_progress'] = False\n",
    "\n",
    "# ignore warnings\n",
    "import warnings\n",
    "warnings.simplefilter(action='ignore', category=FutureWarning)"
   ]
  },
  {
   "cell_type": "code",
   "execution_count": 2,
   "id": "405f50b8-0f96-43bb-80a6-5f744624f96e",
   "metadata": {
    "jupyter": {
     "source_hidden": true
    },
    "scrolled": true
   },
   "outputs": [],
   "source": [
    "# import sys\n",
    "# !{sys.executable} -m pip install mplfinance"
   ]
  },
  {
   "cell_type": "markdown",
   "id": "71142dab-84ce-4aba-8ba4-b401834a1b52",
   "metadata": {},
   "source": [
    "## Basic Goal"
   ]
  },
  {
   "cell_type": "markdown",
   "id": "04e69698-a5c5-4b24-b7e1-d4fa88cc4e91",
   "metadata": {},
   "source": [
    "Plan: \n",
    "1. Data gathering\n",
    "      - Randomly select 30 stocks from the S&P 500 \n",
    "      - Get data for each of the stocks from the past 3 years using yfinance.  \n",
    "      - Get the daily Fama-French factors from the Kenneth French website.\n",
    "2. Implement the PCA Markowitz portfolio optimization\n",
    "      - PCA on normalized returns\n",
    "      - Check if PC1 is significant using Tracy-Widow\n",
    "      - Get the portfolio that corresponds to PC1\n",
    "3. Implement the Fama-French three-factor model\n",
    "      - For each stock, run the standard time series regression for the Fama-French model. \n",
    "      - Get the covariance matrix from the residuals \n",
    "4. Compare the 2 portfolios against the efficient frontier"
   ]
  },
  {
   "cell_type": "markdown",
   "id": "508c7645-3166-44e5-b261-994139f1defc",
   "metadata": {},
   "source": [
    "### Data Gathering"
   ]
  },
  {
   "cell_type": "code",
   "execution_count": 3,
   "id": "3a772028-3023-43b2-8788-239f6e9c404b",
   "metadata": {},
   "outputs": [],
   "source": [
    "# getting the stocks\n",
    "headers = {\n",
    "    'User-Agent': (\n",
    "        'Mozilla/5.0 (Windows NT 10.0; Win64; x64) AppleWebKit/537.36 '\n",
    "        '(KHTML, like Gecko) Chrome/91.0.4472.124 Safari/537.36'\n",
    "    )\n",
    "}\n",
    "\n",
    "response = requests.get(\n",
    "    \"https://en.wikipedia.org/wiki/List_of_S%26P_500_companies\",\n",
    "    headers=headers\n",
    ")\n",
    "response.raise_for_status()\n",
    "tables = pd.read_html(response.text)\n",
    "\n",
    "if len(tables) > 0:\n",
    "    stocks_df = tables[0]\n",
    "\n",
    "# randomly selecting 30 stocks\n",
    "random_stocks = stocks_df['Symbol'].sample(n=30, random_state=42)"
   ]
  },
  {
   "cell_type": "code",
   "execution_count": 4,
   "id": "1d4e62b2-2e64-430b-bb2e-62bf588a252f",
   "metadata": {},
   "outputs": [
    {
     "name": "stdout",
     "output_type": "stream",
     "text": [
      "Downloading batch 1: ['K', 'BR', 'LIN', 'DHI', 'CINF']\n",
      "YF.download() has changed argument auto_adjust default to True\n"
     ]
    },
    {
     "name": "stderr",
     "output_type": "stream",
     "text": [
      "\n",
      "5 Failed downloads:\n",
      "['CINF', 'DHI', 'K', 'LIN', 'BR']: YFRateLimitError('Too Many Requests. Rate limited. Try after a while.')\n"
     ]
    },
    {
     "name": "stdout",
     "output_type": "stream",
     "text": [
      "No data returned for batch: ['K', 'BR', 'LIN', 'DHI', 'CINF']\n",
      "Waiting 15 seconds before next batch...\n",
      "Downloading batch 2: ['LHX', 'O', 'GLW', 'BA', 'IDXX']\n"
     ]
    },
    {
     "name": "stderr",
     "output_type": "stream",
     "text": [
      "\n",
      "5 Failed downloads:\n",
      "['LHX', 'BA', 'O', 'IDXX', 'GLW']: YFRateLimitError('Too Many Requests. Rate limited. Try after a while.')\n"
     ]
    },
    {
     "name": "stdout",
     "output_type": "stream",
     "text": [
      "No data returned for batch: ['LHX', 'O', 'GLW', 'BA', 'IDXX']\n",
      "Waiting 15 seconds before next batch...\n"
     ]
    },
    {
     "ename": "KeyboardInterrupt",
     "evalue": "",
     "output_type": "error",
     "traceback": [
      "\u001b[31m---------------------------------------------------------------------------\u001b[39m",
      "\u001b[31mKeyboardInterrupt\u001b[39m                         Traceback (most recent call last)",
      "\u001b[36mCell\u001b[39m\u001b[36m \u001b[39m\u001b[32mIn[4]\u001b[39m\u001b[32m, line 52\u001b[39m\n\u001b[32m     49\u001b[39m         \u001b[38;5;28;01mreturn\u001b[39;00m pd.DataFrame()\n\u001b[32m     51\u001b[39m \u001b[38;5;66;03m# Download in batches of 5 stocks with 1-second delay\u001b[39;00m\n\u001b[32m---> \u001b[39m\u001b[32m52\u001b[39m closing_df = \u001b[43mdownload_stocks_in_batches\u001b[49m\u001b[43m(\u001b[49m\n\u001b[32m     53\u001b[39m \u001b[43m    \u001b[49m\u001b[43mrandom_stocks\u001b[49m\u001b[43m.\u001b[49m\u001b[43mtolist\u001b[49m\u001b[43m(\u001b[49m\u001b[43m)\u001b[49m\u001b[43m,\u001b[49m\u001b[43m \u001b[49m\n\u001b[32m     54\u001b[39m \u001b[43m    \u001b[49m\u001b[43mbatch_size\u001b[49m\u001b[43m=\u001b[49m\u001b[32;43m5\u001b[39;49m\u001b[43m,\u001b[49m\u001b[43m \u001b[49m\n\u001b[32m     55\u001b[39m \u001b[43m    \u001b[49m\u001b[43mdelay\u001b[49m\u001b[43m=\u001b[49m\u001b[32;43m15\u001b[39;49m\n\u001b[32m     56\u001b[39m \u001b[43m)\u001b[49m\n",
      "\u001b[36mCell\u001b[39m\u001b[36m \u001b[39m\u001b[32mIn[4]\u001b[39m\u001b[32m, line 43\u001b[39m, in \u001b[36mdownload_stocks_in_batches\u001b[39m\u001b[34m(tickers, batch_size, delay)\u001b[39m\n\u001b[32m     41\u001b[39m     \u001b[38;5;28;01mif\u001b[39;00m i + batch_size < \u001b[38;5;28mlen\u001b[39m(tickers):\n\u001b[32m     42\u001b[39m         \u001b[38;5;28mprint\u001b[39m(\u001b[33mf\u001b[39m\u001b[33m\"\u001b[39m\u001b[33mWaiting \u001b[39m\u001b[38;5;132;01m{\u001b[39;00mdelay\u001b[38;5;132;01m}\u001b[39;00m\u001b[33m seconds before next batch...\u001b[39m\u001b[33m\"\u001b[39m)\n\u001b[32m---> \u001b[39m\u001b[32m43\u001b[39m         \u001b[43mtime\u001b[49m\u001b[43m.\u001b[49m\u001b[43msleep\u001b[49m\u001b[43m(\u001b[49m\u001b[43mdelay\u001b[49m\u001b[43m)\u001b[49m\n\u001b[32m     45\u001b[39m \u001b[38;5;66;03m# Combine all data into a single DataFrame\u001b[39;00m\n\u001b[32m     46\u001b[39m \u001b[38;5;28;01mif\u001b[39;00m all_data:\n",
      "\u001b[31mKeyboardInterrupt\u001b[39m: "
     ]
    }
   ],
   "source": [
    "# getting closing prices for the 30 stocks with batching\n",
    "start_date = '2021-01-01'\n",
    "end_date = '2024-12-31'\n",
    "\n",
    "def download_stocks_in_batches(tickers, batch_size=5, delay=1):\n",
    "    \"\"\"\n",
    "    Download stock data in batches to avoid rate limiting\n",
    "    \"\"\"\n",
    "    all_data = {}\n",
    "    \n",
    "    for i in range(0, len(tickers), batch_size):\n",
    "        batch = tickers[i:i + batch_size]\n",
    "        print(f\"Downloading batch {i//batch_size + 1}: {batch}\")\n",
    "        \n",
    "        try:\n",
    "            # Download the batch\n",
    "            batch_data = yf.download(\n",
    "                batch,\n",
    "                start=start_date,\n",
    "                end=end_date,\n",
    "                progress=False\n",
    "            )\n",
    "            \n",
    "            # Extract closing prices for this batch\n",
    "            if not batch_data.empty and 'Close' in batch_data.columns:\n",
    "                closes = batch_data['Close']\n",
    "                # Handle single ticker case (returns Series instead of DataFrame)\n",
    "                if isinstance(closes, pd.Series):\n",
    "                    all_data[batch[0]] = closes\n",
    "                else:\n",
    "                    for ticker in closes.columns:\n",
    "                        all_data[ticker] = closes[ticker]\n",
    "                print(f\"Successfully downloaded {len(batch)} stocks\")\n",
    "            else:\n",
    "                print(f\"No data returned for batch: {batch}\")\n",
    "            \n",
    "        except Exception as e:\n",
    "            print(f\"Error downloading batch {batch}: {e}\")\n",
    "        \n",
    "        # Add delay between batches to avoid rate limiting\n",
    "        if i + batch_size < len(tickers):\n",
    "            print(f\"Waiting {delay} seconds before next batch...\")\n",
    "            time.sleep(delay)\n",
    "    \n",
    "    # Combine all data into a single DataFrame\n",
    "    if all_data:\n",
    "        return pd.DataFrame(all_data)\n",
    "    else:\n",
    "        return pd.DataFrame()\n",
    "\n",
    "# Download in batches of 5 stocks with 1-second delay\n",
    "closing_df = download_stocks_in_batches(\n",
    "    random_stocks.tolist(), \n",
    "    batch_size=5, \n",
    "    delay=15\n",
    ")"
   ]
  },
  {
   "cell_type": "markdown",
   "id": "cfda8275-d4e1-4883-af65-683fa6c509e2",
   "metadata": {},
   "source": [
    "This code above was generated with ChatGPT."
   ]
  },
  {
   "cell_type": "code",
   "execution_count": null,
   "id": "1161b60c-443d-4278-8384-ae4c7200a65b",
   "metadata": {},
   "outputs": [],
   "source": [
    "if not closing_df.empty:\n",
    "    closing_df.to_pickle('closing prices.pkl')\n",
    "\n",
    "closing_df.head(5)"
   ]
  },
  {
   "cell_type": "code",
   "execution_count": null,
   "id": "5c415700-691b-49db-a51f-2706ac79c666",
   "metadata": {
    "scrolled": true
   },
   "outputs": [],
   "source": [
    "# getting fama french factors\n",
    "ff_data = pd.read_csv(\n",
    "    'ff_factors.csv', \n",
    "    header=2\n",
    ")\n",
    "ff_data.rename(columns={'Unnamed: 0': 'date'}, inplace=True)\n",
    "ff_data = ff_data.iloc[:422]\n",
    "\n",
    "# getting dates\n",
    "ff_data['date'] = ff_data['date'].astype(str).str.strip()\n",
    "\n",
    "for idx in range(len(ff_data['date'])):\n",
    "    date = ff_data.iloc[idx, 0]\n",
    "    ff_data.iloc[idx, 0] = date[:4] + '-' + date[-2:]\n",
    "\n",
    "ff_data['date'] = pd.to_datetime(ff_data['date'])"
   ]
  },
  {
   "cell_type": "markdown",
   "id": "774d7dbb-a66e-4e48-985c-d305ff44383e",
   "metadata": {},
   "source": [
    "### Implement the PCA Markowitz portfolio optimization"
   ]
  },
  {
   "cell_type": "code",
   "execution_count": null,
   "id": "98865452-c6c3-4b08-b1e0-61878390423e",
   "metadata": {},
   "outputs": [],
   "source": []
  },
  {
   "cell_type": "markdown",
   "id": "0118e144-8462-453f-af3f-494de6cb4735",
   "metadata": {},
   "source": [
    "### Implement the Fama-French three-factor model"
   ]
  },
  {
   "cell_type": "code",
   "execution_count": null,
   "id": "3d8fbc15-0c8e-4579-8770-e3fe2eca4b47",
   "metadata": {},
   "outputs": [],
   "source": []
  },
  {
   "cell_type": "markdown",
   "id": "550301cf-b977-4082-8050-2d7d87f5b9ee",
   "metadata": {},
   "source": [
    "### Compare the 2 portfolios against the efficient frontier"
   ]
  },
  {
   "cell_type": "code",
   "execution_count": null,
   "id": "65528d65-5bbd-4be9-8c6d-fa601809a324",
   "metadata": {},
   "outputs": [],
   "source": []
  },
  {
   "cell_type": "markdown",
   "id": "303f9ff1-a998-4257-8ed8-1eaa7b7f8b4d",
   "metadata": {},
   "source": [
    "## Intermediate Goal"
   ]
  },
  {
   "cell_type": "markdown",
   "id": "ec819c6c-ee84-400a-9627-f2e7b5623a96",
   "metadata": {},
   "source": [
    "Plan:\n",
    "1. Implement the RIE Markowitz portfolio optimization\n",
    "      - Estimate the covariance matrix by doing RIE on the log returns\n",
    "2. Check which eigenvectors are significant using Marchenco-Pastur and pick one to use for the portfolio (this should be the second largest eigenvalue).\n",
    "3. Compare its fit to the efficient frontier."
   ]
  },
  {
   "cell_type": "markdown",
   "id": "c18d71b5-9c68-4eb9-acab-adad71da91a6",
   "metadata": {},
   "source": [
    "### Implement the RIE Markowitz portfolio optimization"
   ]
  },
  {
   "cell_type": "code",
   "execution_count": null,
   "id": "ab69b7cb-6183-498b-8bd0-6be10c67d850",
   "metadata": {},
   "outputs": [],
   "source": []
  },
  {
   "cell_type": "markdown",
   "id": "90b9f6d8-2d02-4087-bbc2-9c6b23f98e00",
   "metadata": {},
   "source": [
    "### Check which eigenvectors are significant using Marchenco-Pastur and pick one to use for the portfolio"
   ]
  },
  {
   "cell_type": "code",
   "execution_count": null,
   "id": "31d2f49e-b0bc-4561-af70-cb0edf718227",
   "metadata": {},
   "outputs": [],
   "source": []
  },
  {
   "cell_type": "markdown",
   "id": "ca65192d-0baa-431c-a6ef-237bc7dcb3d4",
   "metadata": {},
   "source": [
    "### Compare its fit to the efficient frontier."
   ]
  },
  {
   "cell_type": "code",
   "execution_count": null,
   "id": "de5a5654-98ab-4537-bbdf-5d7a4ef90768",
   "metadata": {},
   "outputs": [],
   "source": []
  },
  {
   "cell_type": "markdown",
   "id": "11b016f4-b162-4cbe-92f6-622980678d05",
   "metadata": {},
   "source": [
    "## Advanced Goal"
   ]
  },
  {
   "cell_type": "markdown",
   "id": "4414633c-b66b-418c-8df5-46101568f487",
   "metadata": {},
   "source": [
    "Plan:\n",
    "As per the study done by Molero-Gonzales et al., (2023), the steps we will follow are the ff:\n",
    "1. Apply the Fama-French 3 Factor Model on the log returns matrix.\n",
    "2. Turn the coefficients for each of the factors for each stock in the portfolio into a matrix.\n",
    "3. Apply RMT.\n",
    "      - Eigenvalue decomposition\n",
    "      - Identify the significant eigenvectors using the Tracy-Widom distribution.\n",
    "4. Create a portfolio out of the significant factors and the residuals.\n",
    "5. Compare its performance against the matrix in the Basic Goal section to predict stock risk."
   ]
  },
  {
   "cell_type": "markdown",
   "id": "00f3abd6-7f6a-4046-b0d4-0bc5047e7444",
   "metadata": {},
   "source": [
    "### Apply the Fama-French 3 Factor Model on the log returns matrix."
   ]
  },
  {
   "cell_type": "code",
   "execution_count": null,
   "id": "8979824a-016e-4093-9d4e-7c859f656fb6",
   "metadata": {},
   "outputs": [],
   "source": []
  },
  {
   "cell_type": "markdown",
   "id": "39dc06b3-d3cd-4206-88c5-d2e76c8e817f",
   "metadata": {},
   "source": [
    "### Turn the coefficients for each of the factors for each stock in the portfolio into a matrix."
   ]
  },
  {
   "cell_type": "code",
   "execution_count": null,
   "id": "52e392b0-bc06-4e94-a289-9b127566ffe7",
   "metadata": {},
   "outputs": [],
   "source": []
  },
  {
   "cell_type": "markdown",
   "id": "7cab9127-14de-4065-9933-99b5cf64251b",
   "metadata": {},
   "source": [
    "### Apply RMT"
   ]
  },
  {
   "cell_type": "code",
   "execution_count": null,
   "id": "57865dfd-130e-4073-9d8b-586578f0e62c",
   "metadata": {},
   "outputs": [],
   "source": []
  },
  {
   "cell_type": "markdown",
   "id": "ac8a4180-2bed-434e-b0eb-eea5c7dc9624",
   "metadata": {},
   "source": [
    "### Create a portfolio out of the significant factors and the residuals."
   ]
  },
  {
   "cell_type": "code",
   "execution_count": null,
   "id": "0a7ce128-ebee-4d07-9877-1de7ecfa5f4a",
   "metadata": {},
   "outputs": [],
   "source": []
  },
  {
   "cell_type": "markdown",
   "id": "765e46e2-9c6b-47ae-82b1-753ee28ea8a4",
   "metadata": {},
   "source": [
    "### Compare its performance against the matrix in the Basic Goal section to predict stock risk."
   ]
  },
  {
   "cell_type": "code",
   "execution_count": null,
   "id": "c1f57ce1-d49e-4784-9254-2a73b8409264",
   "metadata": {},
   "outputs": [],
   "source": []
  }
 ],
 "metadata": {
  "kernelspec": {
   "display_name": "Python 3 (ipykernel)",
   "language": "python",
   "name": "python3"
  },
  "language_info": {
   "codemirror_mode": {
    "name": "ipython",
    "version": 3
   },
   "file_extension": ".py",
   "mimetype": "text/x-python",
   "name": "python",
   "nbconvert_exporter": "python",
   "pygments_lexer": "ipython3",
   "version": "3.13.6"
  }
 },
 "nbformat": 4,
 "nbformat_minor": 5
}
