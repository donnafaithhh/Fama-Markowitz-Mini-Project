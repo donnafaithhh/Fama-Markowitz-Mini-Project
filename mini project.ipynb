{
 "cells": [
  {
   "cell_type": "markdown",
   "id": "4b0981c2-8d12-4743-86fa-c0f1a7cc0ef9",
   "metadata": {
    "jp-MarkdownHeadingCollapsed": true
   },
   "source": [
    "## Imports"
   ]
  },
  {
   "cell_type": "code",
   "execution_count": 3,
   "id": "a2d7cd05-816f-4af8-a5d4-abaffb16c917",
   "metadata": {},
   "outputs": [],
   "source": [
    "# standard imports\n",
    "import pandas as pd\n",
    "import numpy as np\n",
    "import matplotlib.pyplot as plt\n",
    "\n",
    "# stocks\n",
    "import yfinance as yf\n",
    "import cvxopt as opt\n",
    "from cvxopt import blas, solvers\n",
    "import cufflinks\n",
    "\n",
    "# import plotly.plotly as py\n",
    "import plotly.tools as tls\n",
    "from plotly.graph_objs import *\n",
    "solvers.options['show_progress'] = False"
   ]
  },
  {
   "cell_type": "markdown",
   "id": "71142dab-84ce-4aba-8ba4-b401834a1b52",
   "metadata": {},
   "source": [
    "## Basic Goal"
   ]
  },
  {
   "cell_type": "markdown",
   "id": "04e69698-a5c5-4b24-b7e1-d4fa88cc4e91",
   "metadata": {},
   "source": [
    "Plan: \n",
    "1. Data gathering\n",
    "      - Randomly select 30 stocks from the S&P 500 \n",
    "      - Get data for each of the stocks from the past 3 years using yfinance.  \n",
    "      - Get the daily Fama-French factors from the Kenneth French website.\n",
    "2. Implement the PCA Markowitz portfolio optimization\n",
    "      - PCA on normalized returns\n",
    "      - Check if PC1 is significant using Tracy-Widow\n",
    "      - Get the portfolio that corresponds to PC1\n",
    "3. Implement the Fama-French three-factor model\n",
    "      - For each stock, run the standard time series regression for the Fama-French model. \n",
    "      - Get the covariance matrix from the residuals \n",
    "4. Compare the 2 portfolios against the efficient frontier"
   ]
  },
  {
   "cell_type": "markdown",
   "id": "508c7645-3166-44e5-b261-994139f1defc",
   "metadata": {},
   "source": [
    "### Data Gathering"
   ]
  },
  {
   "cell_type": "code",
   "execution_count": null,
   "id": "3a772028-3023-43b2-8788-239f6e9c404b",
   "metadata": {},
   "outputs": [],
   "source": []
  },
  {
   "cell_type": "markdown",
   "id": "774d7dbb-a66e-4e48-985c-d305ff44383e",
   "metadata": {},
   "source": [
    "### Implement the PCA Markowitz portfolio optimization"
   ]
  },
  {
   "cell_type": "code",
   "execution_count": null,
   "id": "98865452-c6c3-4b08-b1e0-61878390423e",
   "metadata": {},
   "outputs": [],
   "source": []
  },
  {
   "cell_type": "markdown",
   "id": "0118e144-8462-453f-af3f-494de6cb4735",
   "metadata": {},
   "source": [
    "### Implement the Fama-French three-factor model"
   ]
  },
  {
   "cell_type": "code",
   "execution_count": null,
   "id": "3d8fbc15-0c8e-4579-8770-e3fe2eca4b47",
   "metadata": {},
   "outputs": [],
   "source": []
  },
  {
   "cell_type": "markdown",
   "id": "550301cf-b977-4082-8050-2d7d87f5b9ee",
   "metadata": {},
   "source": [
    "### Compare the 2 portfolios against the efficient frontier"
   ]
  },
  {
   "cell_type": "code",
   "execution_count": null,
   "id": "65528d65-5bbd-4be9-8c6d-fa601809a324",
   "metadata": {},
   "outputs": [],
   "source": []
  },
  {
   "cell_type": "markdown",
   "id": "303f9ff1-a998-4257-8ed8-1eaa7b7f8b4d",
   "metadata": {},
   "source": [
    "## Intermediate Goal"
   ]
  },
  {
   "cell_type": "markdown",
   "id": "ec819c6c-ee84-400a-9627-f2e7b5623a96",
   "metadata": {},
   "source": [
    "Plan:\n",
    "1. Implement the RIE Markowitz portfolio optimization\n",
    "      - Estimate the covariance matrix by doing RIE on the log returns\n",
    "2. Check which eigenvectors are significant using Marchenco-Pastur and pick one to use for the portfolio (this should be the second largest eigenvalue).\n",
    "3. Compare its fit to the efficient frontier."
   ]
  },
  {
   "cell_type": "markdown",
   "id": "c18d71b5-9c68-4eb9-acab-adad71da91a6",
   "metadata": {},
   "source": [
    "### Implement the RIE Markowitz portfolio optimization"
   ]
  },
  {
   "cell_type": "code",
   "execution_count": null,
   "id": "ab69b7cb-6183-498b-8bd0-6be10c67d850",
   "metadata": {},
   "outputs": [],
   "source": []
  },
  {
   "cell_type": "markdown",
   "id": "90b9f6d8-2d02-4087-bbc2-9c6b23f98e00",
   "metadata": {},
   "source": [
    "### Check which eigenvectors are significant using Marchenco-Pastur and pick one to use for the portfolio"
   ]
  },
  {
   "cell_type": "code",
   "execution_count": null,
   "id": "31d2f49e-b0bc-4561-af70-cb0edf718227",
   "metadata": {},
   "outputs": [],
   "source": []
  },
  {
   "cell_type": "markdown",
   "id": "ca65192d-0baa-431c-a6ef-237bc7dcb3d4",
   "metadata": {},
   "source": [
    "### Compare its fit to the efficient frontier."
   ]
  },
  {
   "cell_type": "code",
   "execution_count": null,
   "id": "de5a5654-98ab-4537-bbdf-5d7a4ef90768",
   "metadata": {},
   "outputs": [],
   "source": []
  },
  {
   "cell_type": "markdown",
   "id": "11b016f4-b162-4cbe-92f6-622980678d05",
   "metadata": {},
   "source": [
    "## Advanced Goal"
   ]
  },
  {
   "cell_type": "markdown",
   "id": "4414633c-b66b-418c-8df5-46101568f487",
   "metadata": {},
   "source": [
    "Plan:\n",
    "As per the study done by Molero-Gonzales et al., (2023), the steps we will follow are the ff:\n",
    "1. Apply the Fama-French 3 Factor Model on the log returns matrix.\n",
    "2. Turn the coefficients for each of the factors for each stock in the portfolio into a matrix.\n",
    "3. Apply RMT.\n",
    "      - Eigenvalue decomposition\n",
    "      - Identify the significant eigenvectors using the Tracy-Widom distribution.\n",
    "4. Create a portfolio out of the significant factors and the residuals.\n",
    "5. Compare its performance against the matrix in the Basic Goal section to predict stock risk."
   ]
  },
  {
   "cell_type": "code",
   "execution_count": null,
   "id": "52e392b0-bc06-4e94-a289-9b127566ffe7",
   "metadata": {},
   "outputs": [],
   "source": []
  }
 ],
 "metadata": {
  "kernelspec": {
   "display_name": "Python 3 (ipykernel)",
   "language": "python",
   "name": "python3"
  },
  "language_info": {
   "codemirror_mode": {
    "name": "ipython",
    "version": 3
   },
   "file_extension": ".py",
   "mimetype": "text/x-python",
   "name": "python",
   "nbconvert_exporter": "python",
   "pygments_lexer": "ipython3",
   "version": "3.13.6"
  }
 },
 "nbformat": 4,
 "nbformat_minor": 5
}
